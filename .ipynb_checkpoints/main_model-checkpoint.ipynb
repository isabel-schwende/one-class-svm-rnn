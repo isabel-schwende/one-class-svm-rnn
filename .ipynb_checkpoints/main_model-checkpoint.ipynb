{
 "cells": [
  {
   "cell_type": "code",
   "execution_count": 1,
   "metadata": {
    "collapsed": true
   },
   "outputs": [],
   "source": [
    "# ==============================================================================\n",
    "# Copyright Isabel Schwende. All Rights Reserved.\n",
    "#\n",
    "# Licensed under the Apache License, Version 2.0 (the \"License\");\n",
    "# you may not use this file except in compliance with the License.\n",
    "# You may obtain a copy of the License at\n",
    "#\n",
    "#     http://www.apache.org/licenses/LICENSE-2.0\n",
    "#\n",
    "# Unless required by applicable law or agreed to in writing, software\n",
    "# distributed under the License is distributed on an \"AS IS\" BASIS,\n",
    "# WITHOUT WARRANTIES OR CONDITIONS OF ANY KIND, either express or implied.\n",
    "# See the License for the specific language governing permissions and\n",
    "# limitations under the License.\n",
    "# ==============================================================================\n",
    "\n",
    "import tensorflow as tf\n",
    "import numpy as np\n",
    "from tensorflow.examples.tutorials.mnist import input_data\n",
    "# TO-DO change to one-class SVM\n",
    "from sklearn import svm\n",
    "import time"
   ]
  },
  {
   "cell_type": "code",
   "execution_count": 2,
   "metadata": {
    "collapsed": true
   },
   "outputs": [],
   "source": [
    "NUMBER_OF_FEATURES = 128\n",
    "BATCH_SIZE = 55\n",
    "BATCHES_IN_EPOCH = 1000\n",
    "TRAIN_SIZE = BATCHES_IN_EPOCH * BATCH_SIZE\n",
    "TEST_SIZE = 10000\n",
    "NUMBER_OF_EPOCHS = 3\n",
    "#adjust if necessary\n",
    "NUMBER_OF_EXPERIMENTS = 10\n"
   ]
  },
  {
   "cell_type": "code",
   "execution_count": 3,
   "metadata": {},
   "outputs": [
    {
     "name": "stdout",
     "output_type": "stream",
     "text": [
      "Extracting MNIST_data/train-images-idx3-ubyte.gz\n",
      "Extracting MNIST_data/train-labels-idx1-ubyte.gz\n",
      "Extracting MNIST_data/t10k-images-idx3-ubyte.gz\n",
      "Extracting MNIST_data/t10k-labels-idx1-ubyte.gz\n"
     ]
    }
   ],
   "source": [
    "# adjust to RNN\n",
    "mnist = input_data.read_data_sets('MNIST_data', one_hot=True)\n",
    "converter = np.array([0,1,2,3,4,5,6,7,8,9])\n",
    "\n",
    "train_features = np.zeros((TRAIN_SIZE, 28 * 28), dtype=float)\n",
    "train_labels = np.zeros(TRAIN_SIZE, dtype=int)\n",
    "test_features = mnist.test.images\n",
    "test_labels = np.zeros(TEST_SIZE, dtype=int)\n",
    "\n",
    "train_features_cnn = np.zeros((TRAIN_SIZE, NUMBER_OF_FEATURES), dtype=float)\n",
    "train_labels_cnn = np.zeros(TRAIN_SIZE, dtype=int)\n",
    "test_labels_cnn = np.zeros(TEST_SIZE, dtype=int)\n"
   ]
  },
  {
   "cell_type": "code",
   "execution_count": 4,
   "metadata": {},
   "outputs": [],
   "source": [
    "def print_debug(ndarrayinput, stringinput):\n",
    "    print(\"\\n\"+stringinput)\n",
    "    print(ndarrayinput.shape)\n",
    "    print(type(ndarrayinput))\n",
    "    print(np.mean(ndarrayinput))\n",
    "    print(ndarrayinput)\n",
    "\n",
    "def weight_variable(shape):\n",
    "    initial = tf.truncated_normal(shape, stddev=0.1)\n",
    "    return tf.Variable(initial)\n",
    "\n",
    "def bias_variable(shape):\n",
    "    initial = tf.constant(0.1, shape=shape)\n",
    "    return tf.Variable(initial)\n",
    "\n",
    "def conv2d(x, W):\n",
    "    return tf.nn.conv2d(x, W, strides=[1, 1, 1, 1], padding='SAME')\n",
    "\n",
    "def max_pool_2x2(x):\n",
    "    return tf.nn.max_pool(x, ksize=[1, 2, 2, 1], strides=[1, 2, 2, 1], padding='SAME')"
   ]
  },
  {
   "cell_type": "code",
   "execution_count": 5,
   "metadata": {
    "collapsed": true
   },
   "outputs": [],
   "source": [
    "def SVM(krnl):\n",
    "\n",
    "    for i in range(BATCHES_IN_EPOCH):\n",
    "        train_batch = mnist.train.next_batch(BATCH_SIZE)\n",
    "        features_batch = train_batch[0]\n",
    "        labels_batch = train_batch[1]\n",
    "        for j in range(BATCH_SIZE):\n",
    "            for k in range(28*28):\n",
    "                train_features[BATCH_SIZE * i + j, k] = features_batch[j, k]\n",
    "                train_labels[BATCH_SIZE * i + j] = np.sum(np.multiply(converter, labels_batch[j, :]))\n",
    "    #    print_debug(train_features, \"train_features\")\n",
    "    #    print_debug(train_labels, \"train_labels\")\n",
    "\n",
    "        for j in range(TEST_SIZE):\n",
    "            test_labels[j] = np.sum(np.multiply(converter, mnist.test.labels[j, :]))\n",
    "\n",
    "    #    print_debug(test_features, \"test_features\")\n",
    "    #    print_debug(test_labels, \"test_labels\")\n",
    "\n",
    "        initial_time = time.time()\n",
    "\n",
    "        clf = svm.SVC(kernel=krnl)\n",
    "        clf.fit(train_features, train_labels)\n",
    "        training_time = time.time()-initial_time\n",
    "        #print(\"\\nTraining Time = \", training_time)\n",
    "\n",
    "        accuracy = clf.score(test_features, test_labels)\n",
    "    #    test_time = time.time() - (training_time + initial_time)\n",
    "    #    print(\"\\nTest Time = \", test_time)\n",
    "\n",
    "        #print(\"\\n\", krnl, \"kernel SVM accuracy =\", accuracy)\n",
    "    return accuracy, training_time"
   ]
  },
  {
   "cell_type": "code",
   "execution_count": null,
   "metadata": {},
   "outputs": [],
   "source": [
    "def ConvNetSVM():\n",
    "    initial_time = time.time()\n",
    "\n",
    "    for i in range(BATCHES_IN_EPOCH):\n",
    "        train_batch = mnist.train.next_batch(BATCH_SIZE)\n",
    "        features_batch = h_fc1.eval(feed_dict={x: train_batch[0]})\n",
    "        labels_batch = train_batch[1]\n",
    "        for j in range(BATCH_SIZE):\n",
    "            for k in range(NUMBER_OF_FEATURES):\n",
    "                train_features_cnn[BATCH_SIZE * i + j, k] = features_batch[j, k]\n",
    "            train_labels_cnn[BATCH_SIZE * i + j] = np.sum(np.multiply(converter, labels_batch[j, :]))\n",
    "\n",
    "#    print_debug(train_features_cnn, \"train_features_cnn\")\n",
    "#    print_debug(train_labels_cnn, \"train_labels_cnn\")\n",
    "\n",
    "    test_features_cnn = h_fc1.eval(feed_dict={x: mnist.test.images})\n",
    "    for j in range(TEST_SIZE):\n",
    "        test_labels_cnn[j] = np.sum(np.multiply(converter, mnist.test.labels[j, :]))\n",
    "\n",
    "#    print_debug(test_features_cnn, \"test_features_cnn\")\n",
    "#    print_debug(test_labels_cnn, \"train_labels_cnn\")\n",
    "\n",
    "    clf = svm.SVC()\n",
    "    clf.fit(train_features_cnn, train_labels_cnn)\n",
    "    training_time = time.time()-initial_time\n",
    "    #print(\"\\nTraining Time = \", training_time)\n",
    "\n",
    "    accuracy = clf.score(test_features_cnn, test_labels_cnn)\n",
    "#    test_time = time.time() - (training_time + initial_time)\n",
    "#    print(\"\\nTest Time = \", test_time)\n",
    "\n",
    "    #print(\"\\nConvNetSVM accuracy =\", accuracy)\n",
    "    return accuracy, training_time"
   ]
  },
  {
   "cell_type": "code",
   "execution_count": null,
   "metadata": {},
   "outputs": [
    {
     "name": "stdout",
     "output_type": "stream",
     "text": [
      "('\\nExperiment: ', 1)\n",
      "('\\n', (0.96409999999999996, 124.76002597808838))\n",
      "('\\nExperiment: ', 2)\n"
     ]
    }
   ],
   "source": [
    "sess = tf.InteractiveSession()\n",
    "\n",
    "x = tf.placeholder(tf.float32, shape=[None, 784])\n",
    "y_ = tf.placeholder(tf.float32, shape=[None, 10])\n",
    "\n",
    "x_image = tf.reshape(x, [-1,28,28,1])\n",
    "\n",
    "W_conv1 = weight_variable([5, 5, 1, 32])\n",
    "b_conv1 = bias_variable([32])\n",
    "h_conv1 = tf.nn.relu(conv2d(x_image, W_conv1) + b_conv1)\n",
    "h_pool1 = max_pool_2x2(h_conv1)\n",
    "\n",
    "W_conv2 = weight_variable([5, 5, 32, 64])\n",
    "b_conv2 = bias_variable([64])\n",
    "h_conv2 = tf.nn.relu(conv2d(h_pool1, W_conv2) + b_conv2)\n",
    "h_pool2 = max_pool_2x2(h_conv2)\n",
    "\n",
    "h_pool2_flat = tf.reshape(h_pool2, [-1, 7*7*64])\n",
    "\n",
    "W_fc1 = weight_variable([7 * 7 * 64, NUMBER_OF_FEATURES])\n",
    "b_fc1 = bias_variable([NUMBER_OF_FEATURES])\n",
    "h_fc1 = tf.nn.relu(tf.matmul(h_pool2_flat, W_fc1) + b_fc1)\n",
    "\n",
    "keep_prob = tf.placeholder(tf.float32)\n",
    "h_fc1_drop = tf.nn.dropout(h_fc1, keep_prob)\n",
    "\n",
    "W_fc2 = weight_variable([NUMBER_OF_FEATURES, 10])\n",
    "b_fc2 = bias_variable([10])\n",
    "\n",
    "y_conv=tf.nn.softmax(tf.matmul(h_fc1_drop, W_fc2) + b_fc2)\n",
    "\n",
    "cross_entropy = tf.reduce_mean(-tf.reduce_sum(y_ * tf.log(y_conv), reduction_indices=[1]))\n",
    "train_step = tf.train.AdamOptimizer(1e-4).minimize(cross_entropy)\n",
    "\n",
    "correct_prediction = tf.equal(tf.argmax(y_conv,1), tf.argmax(y_,1))\n",
    "model_accuracy = tf.reduce_mean(tf.cast(correct_prediction, tf.float32))\n",
    "\n",
    "\n",
    "for index in range(NUMBER_OF_EXPERIMENTS):\n",
    "    print(\"Experiment: %i\", %index+1)\n",
    "    sess.run(tf.global_variables_initializer())\n",
    "    result = ConvNetSVM()\n",
    "    print(result)\n",
    "\n",
    "sess.close()"
   ]
  },
  {
   "cell_type": "code",
   "execution_count": null,
   "metadata": {
    "collapsed": true
   },
   "outputs": [],
   "source": []
  }
 ],
 "metadata": {
  "kernelspec": {
   "display_name": "Python 2",
   "language": "python",
   "name": "python2"
  },
  "language_info": {
   "codemirror_mode": {
    "name": "ipython",
    "version": 2
   },
   "file_extension": ".py",
   "mimetype": "text/x-python",
   "name": "python",
   "nbconvert_exporter": "python",
   "pygments_lexer": "ipython2",
   "version": "2.7.12"
  }
 },
 "nbformat": 4,
 "nbformat_minor": 2
}
