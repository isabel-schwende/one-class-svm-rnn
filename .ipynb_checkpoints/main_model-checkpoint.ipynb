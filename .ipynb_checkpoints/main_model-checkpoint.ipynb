{
 "cells": [
  {
   "cell_type": "code",
   "execution_count": 1,
   "metadata": {},
   "outputs": [
    {
     "name": "stderr",
     "output_type": "stream",
     "text": [
      "Using TensorFlow backend.\n"
     ]
    }
   ],
   "source": [
    "# ==============================================================================\n",
    "# Copyright Isabel Schwende. All Rights Reserved.\n",
    "#\n",
    "# Licensed under the Apache License, Version 2.0 (the \"License\");\n",
    "# you may not use this file except in compliance with the License.\n",
    "# You may obtain a copy of the License at\n",
    "#\n",
    "#     http://www.apache.org/licenses/LICENSE-2.0\n",
    "#\n",
    "# Unless required by applicable law or agreed to in writing, software\n",
    "# distributed under the License is distributed on an \"AS IS\" BASIS,\n",
    "# WITHOUT WARRANTIES OR CONDITIONS OF ANY KIND, either express or implied.\n",
    "# See the License for the specific language governing permissions and\n",
    "# limitations under the License.\n",
    "# ==============================================================================\n",
    "\n",
    "import tensorflow as tf\n",
    "import numpy as np\n",
    "import keras\n",
    "from keras.datasets import mnist\n",
    "from tensorflow.examples.tutorials.mnist import input_data\n",
    "# TO-DO change to one-class SVM\n",
    "from sklearn import svm\n",
    "import time"
   ]
  },
  {
   "cell_type": "code",
   "execution_count": 2,
   "metadata": {
    "collapsed": true
   },
   "outputs": [],
   "source": [
    "NUMBER_OF_FEATURES = 128\n",
    "BATCH_SIZE = 55\n",
    "BATCHES_IN_EPOCH = 3 #100\n",
    "TRAIN_SIZE = BATCHES_IN_EPOCH * BATCH_SIZE\n",
    "NUMBER_OF_EPOCHS = 3\n",
    "#adjust if necessary\n",
    "NUMBER_OF_EXPERIMENTS = 10\n",
    "\n",
    "n_normal = 1000\n",
    "n_fraud = 50\n",
    "\n",
    "normal_class = 1\n",
    "fraud_class = 5"
   ]
  },
  {
   "cell_type": "code",
   "execution_count": 3,
   "metadata": {},
   "outputs": [
    {
     "name": "stdout",
     "output_type": "stream",
     "text": [
      "('x_train shape:', (60000, 784, 1))\n",
      "(60000, 'train samples')\n",
      "(10000, 'test samples')\n"
     ]
    }
   ],
   "source": [
    "## data loading\n",
    "# the data, shuffled and split between train and test sets\n",
    "(x_train, y_train), (x_test, y_test) = mnist.load_data()\n",
    "\n",
    "x_train = x_train.reshape(x_train.shape[0], -1, 1)\n",
    "x_test = x_test.reshape(x_test.shape[0], -1, 1)\n",
    "x_train = x_train.astype('float32')\n",
    "x_test = x_test.astype('float32')\n",
    "x_train /= 255\n",
    "x_test /= 255\n",
    "print('x_train shape:', x_train.shape)\n",
    "print(x_train.shape[0], 'train samples')\n",
    "print(x_test.shape[0], 'test samples')"
   ]
  },
  {
   "cell_type": "code",
   "execution_count": 4,
   "metadata": {},
   "outputs": [
    {
     "name": "stdout",
     "output_type": "stream",
     "text": [
      "(6742, 784)\n",
      "(6742,)\n"
     ]
    }
   ],
   "source": [
    "## collect images with label \"1\" as normal class\n",
    "\n",
    "x_train = x_train[y_train==normal_class]\n",
    "dims = np.shape(x_train)\n",
    "x_train = np.reshape(x_train,(dims[0],dims[1]))\n",
    "\n",
    "y_tr = np.ones(len(x_train), dtype=np.int)\n",
    "y_tr[0:len(x_train)] = normal_class\n",
    "y_train = y_tr\n",
    "\n",
    "print np.shape(x_train)\n",
    "print np.shape(y_train)"
   ]
  },
  {
   "cell_type": "code",
   "execution_count": 5,
   "metadata": {},
   "outputs": [
    {
     "name": "stdout",
     "output_type": "stream",
     "text": [
      "(1050, 784)\n",
      "(1050,)\n"
     ]
    }
   ],
   "source": [
    "## collect test data with label \"1\" (normal) and a few with label \"5\" (fraud)\n",
    "# I decided to split into 1000 normal - 50 fraud\n",
    "# NOTE: if switching the normal class, the number maybe has to be adapted\n",
    "\n",
    "test_normal_data = x_test[y_test==normal_class]\n",
    "test_fraud_data = x_test[y_test==fraud_class]\n",
    "\n",
    "if len(test_normal_data)<n_normal: \n",
    "    n_normal=len(test_normal_data)\n",
    "x_test = np.concatenate((test_normal_data[0:n_normal,:,:], test_fraud_data[0:n_fraud,:,:],), axis=0)\n",
    "dims = np.shape(x_test)\n",
    "x_test = np.reshape(x_test,(dims[0],dims[1]))\n",
    "y_test = np.ones(n_normal+n_fraud, dtype=np.int)\n",
    "y_test[0:n_normal] = normal_class\n",
    "y_test[n_normal+1:] = fraud_class\n",
    "\n",
    "print np.shape(x_test)\n",
    "print np.shape(y_test)"
   ]
  },
  {
   "cell_type": "code",
   "execution_count": 6,
   "metadata": {},
   "outputs": [],
   "source": [
    "train_features_cnn = np.zeros((TRAIN_SIZE, NUMBER_OF_FEATURES), dtype=float)\n",
    "train_labels_cnn = np.zeros(TRAIN_SIZE, dtype=int)\n",
    "test_labels_cnn = np.zeros(n_normal+n_fraud, dtype=int)"
   ]
  },
  {
   "cell_type": "code",
   "execution_count": 7,
   "metadata": {},
   "outputs": [],
   "source": [
    "def print_debug(ndarrayinput, stringinput):\n",
    "    print(\"\\n\"+stringinput)\n",
    "    print(ndarrayinput.shape)\n",
    "    print(type(ndarrayinput))\n",
    "    print(np.mean(ndarrayinput))\n",
    "    print(ndarrayinput)\n",
    "\n",
    "def weight_variable(shape):\n",
    "    initial = tf.truncated_normal(shape, stddev=0.1)\n",
    "    return tf.Variable(initial)\n",
    "\n",
    "def bias_variable(shape):\n",
    "    initial = tf.constant(0.1, shape=shape)\n",
    "    return tf.Variable(initial)\n",
    "\n",
    "def conv2d(x, W):\n",
    "    return tf.nn.conv2d(x, W, strides=[1, 1, 1, 1], padding='SAME')\n",
    "\n",
    "def max_pool_2x2(x):\n",
    "    return tf.nn.max_pool(x, ksize=[1, 2, 2, 1], strides=[1, 2, 2, 1], padding='SAME')"
   ]
  },
  {
   "cell_type": "code",
   "execution_count": 8,
   "metadata": {},
   "outputs": [],
   "source": [
    "def ConvNetSVM():\n",
    "    initial_time = time.time()\n",
    "    \n",
    "    for i in range(BATCHES_IN_EPOCH):\n",
    "        #train_batch = mnist.train.next_batch(BATCH_SIZE)\n",
    "        print i*BATCH_SIZE\n",
    "        print (i+1)*BATCH_SIZE\n",
    "        #pick something like i*BATCH_SIZE : (i+1)*BATCH_SIZE from training array\n",
    "        train_batch = x_train[i*BATCH_SIZE:(i+1)*BATCH_SIZE]\n",
    "        print np.shape(train_batch)\n",
    "        features_batch = h_fc1.eval(feed_dict={x: train_batch})\n",
    "        labels_batch = y_train[i*BATCH_SIZE:(i+1)*BATCH_SIZE]\n",
    "        for j in range(BATCH_SIZE):\n",
    "            for k in range(NUMBER_OF_FEATURES):\n",
    "                train_features_cnn[BATCH_SIZE * i + j, k] = features_batch[j, k]\n",
    "            train_labels_cnn[BATCH_SIZE * i + j] = labels_batch[j]\n",
    "\n",
    "\n",
    "    print_debug(train_features_cnn, \"train_features_cnn\")\n",
    "    print_debug(train_labels_cnn, \"train_labels_cnn\")\n",
    "\n",
    "    test_features_cnn = h_fc1.eval(feed_dict={x: x_test})\n",
    "    for j in range(len(y_test)):\n",
    "        test_labels_cnn[j] = y_test[j]\n",
    "\n",
    "    print_debug(test_features_cnn, \"test_features_cnn\")\n",
    "    print_debug(test_labels_cnn, \"test_labels_cnn\")\n",
    "\n",
    "    clf = svm.SVC()\n",
    "    clf.fit(train_features_cnn, train_labels_cnn)\n",
    "    training_time = time.time()-initial_time\n",
    "    #print(\"\\nTraining Time = \", training_time)\n",
    "\n",
    "    accuracy = clf.score(test_features_cnn, test_labels_cnn)\n",
    "#    test_time = time.time() - (training_time + initial_time)\n",
    "#    print(\"\\nTest Time = \", test_time)\n",
    "\n",
    "    #print(\"\\nConvNetSVM accuracy =\", accuracy)\n",
    "    return accuracy, training_time"
   ]
  },
  {
   "cell_type": "code",
   "execution_count": 9,
   "metadata": {},
   "outputs": [
    {
     "name": "stdout",
     "output_type": "stream",
     "text": [
      "('Experiment: ', 1)\n",
      "0\n",
      "55\n",
      "(55, 784)\n",
      "55\n",
      "110\n",
      "(55, 784)\n",
      "110\n",
      "165\n",
      "(55, 784)\n",
      "\n",
      "train_features_cnn\n",
      "(165, 128)\n",
      "<type 'numpy.ndarray'>\n",
      "0.786892673696\n",
      "[[ 0.          0.98506629  0.         ...,  0.43356618  0.          0.        ]\n",
      " [ 0.          0.          0.         ...,  1.59482121  0.          0.        ]\n",
      " [ 0.          0.25651571  0.         ...,  0.76426882  0.          0.        ]\n",
      " ..., \n",
      " [ 0.          1.15974522  0.         ...,  0.28221992  0.          0.        ]\n",
      " [ 0.          0.11942387  0.         ...,  0.31054416  0.          0.        ]\n",
      " [ 0.          0.          0.         ...,  1.57344949  0.          0.        ]]\n",
      "\n",
      "train_labels_cnn\n",
      "(165,)\n",
      "<type 'numpy.ndarray'>\n",
      "1.0\n",
      "[1 1 1 1 1 1 1 1 1 1 1 1 1 1 1 1 1 1 1 1 1 1 1 1 1 1 1 1 1 1 1 1 1 1 1 1 1\n",
      " 1 1 1 1 1 1 1 1 1 1 1 1 1 1 1 1 1 1 1 1 1 1 1 1 1 1 1 1 1 1 1 1 1 1 1 1 1\n",
      " 1 1 1 1 1 1 1 1 1 1 1 1 1 1 1 1 1 1 1 1 1 1 1 1 1 1 1 1 1 1 1 1 1 1 1 1 1\n",
      " 1 1 1 1 1 1 1 1 1 1 1 1 1 1 1 1 1 1 1 1 1 1 1 1 1 1 1 1 1 1 1 1 1 1 1 1 1\n",
      " 1 1 1 1 1 1 1 1 1 1 1 1 1 1 1 1 1]\n",
      "\n",
      "test_features_cnn\n",
      "(1050, 128)\n",
      "<type 'numpy.ndarray'>\n",
      "0.797628\n",
      "[[ 0.          0.32655594  0.         ...,  0.34082571  0.          0.        ]\n",
      " [ 0.          0.32018808  0.         ...,  0.1316562   0.          0.        ]\n",
      " [ 0.          0.06933884  0.         ...,  0.76292473  0.          0.        ]\n",
      " ..., \n",
      " [ 0.          0.          0.         ...,  0.          0.          0.        ]\n",
      " [ 0.          1.21689475  0.         ...,  1.04382181  0.          0.        ]\n",
      " [ 0.          0.80957139  0.         ...,  0.          0.08269957  0.        ]]\n",
      "\n",
      "test_labels_cnn\n",
      "(1050,)\n",
      "<type 'numpy.ndarray'>\n",
      "1.18666666667\n",
      "[1 1 1 ..., 5 5 5]\n"
     ]
    },
    {
     "ename": "ValueError",
     "evalue": "The number of classes has to be greater than one; got 1",
     "output_type": "error",
     "traceback": [
      "\u001b[0;31m---------------------------------------------------------------------------\u001b[0m",
      "\u001b[0;31mValueError\u001b[0m                                Traceback (most recent call last)",
      "\u001b[0;32m<ipython-input-9-54b31aa0068d>\u001b[0m in \u001b[0;36m<module>\u001b[0;34m()\u001b[0m\n\u001b[1;32m     40\u001b[0m     \u001b[0;32mprint\u001b[0m\u001b[0;34m(\u001b[0m\u001b[0;34m\"Experiment: \"\u001b[0m\u001b[0;34m,\u001b[0m \u001b[0mindex\u001b[0m\u001b[0;34m+\u001b[0m\u001b[0;36m1\u001b[0m\u001b[0;34m)\u001b[0m\u001b[0;34m\u001b[0m\u001b[0m\n\u001b[1;32m     41\u001b[0m     \u001b[0msess\u001b[0m\u001b[0;34m.\u001b[0m\u001b[0mrun\u001b[0m\u001b[0;34m(\u001b[0m\u001b[0mtf\u001b[0m\u001b[0;34m.\u001b[0m\u001b[0mglobal_variables_initializer\u001b[0m\u001b[0;34m(\u001b[0m\u001b[0;34m)\u001b[0m\u001b[0;34m)\u001b[0m\u001b[0;34m\u001b[0m\u001b[0m\n\u001b[0;32m---> 42\u001b[0;31m     \u001b[0mresult\u001b[0m \u001b[0;34m=\u001b[0m \u001b[0mConvNetSVM\u001b[0m\u001b[0;34m(\u001b[0m\u001b[0;34m)\u001b[0m\u001b[0;34m\u001b[0m\u001b[0m\n\u001b[0m\u001b[1;32m     43\u001b[0m     \u001b[0;32mprint\u001b[0m\u001b[0;34m(\u001b[0m\u001b[0mresult\u001b[0m\u001b[0;34m)\u001b[0m\u001b[0;34m\u001b[0m\u001b[0m\n\u001b[1;32m     44\u001b[0m \u001b[0;34m\u001b[0m\u001b[0m\n",
      "\u001b[0;32m<ipython-input-8-47f1ef925207>\u001b[0m in \u001b[0;36mConvNetSVM\u001b[0;34m()\u001b[0m\n\u001b[1;32m     28\u001b[0m \u001b[0;34m\u001b[0m\u001b[0m\n\u001b[1;32m     29\u001b[0m     \u001b[0mclf\u001b[0m \u001b[0;34m=\u001b[0m \u001b[0msvm\u001b[0m\u001b[0;34m.\u001b[0m\u001b[0mSVC\u001b[0m\u001b[0;34m(\u001b[0m\u001b[0;34m)\u001b[0m\u001b[0;34m\u001b[0m\u001b[0m\n\u001b[0;32m---> 30\u001b[0;31m     \u001b[0mclf\u001b[0m\u001b[0;34m.\u001b[0m\u001b[0mfit\u001b[0m\u001b[0;34m(\u001b[0m\u001b[0mtrain_features_cnn\u001b[0m\u001b[0;34m,\u001b[0m \u001b[0mtrain_labels_cnn\u001b[0m\u001b[0;34m)\u001b[0m\u001b[0;34m\u001b[0m\u001b[0m\n\u001b[0m\u001b[1;32m     31\u001b[0m     \u001b[0mtraining_time\u001b[0m \u001b[0;34m=\u001b[0m \u001b[0mtime\u001b[0m\u001b[0;34m.\u001b[0m\u001b[0mtime\u001b[0m\u001b[0;34m(\u001b[0m\u001b[0;34m)\u001b[0m\u001b[0;34m-\u001b[0m\u001b[0minitial_time\u001b[0m\u001b[0;34m\u001b[0m\u001b[0m\n\u001b[1;32m     32\u001b[0m     \u001b[0;31m#print(\"\\nTraining Time = \", training_time)\u001b[0m\u001b[0;34m\u001b[0m\u001b[0;34m\u001b[0m\u001b[0m\n",
      "\u001b[0;32m/usr/local/lib/python2.7/dist-packages/sklearn/svm/base.pyc\u001b[0m in \u001b[0;36mfit\u001b[0;34m(self, X, y, sample_weight)\u001b[0m\n\u001b[1;32m    150\u001b[0m \u001b[0;34m\u001b[0m\u001b[0m\n\u001b[1;32m    151\u001b[0m         \u001b[0mX\u001b[0m\u001b[0;34m,\u001b[0m \u001b[0my\u001b[0m \u001b[0;34m=\u001b[0m \u001b[0mcheck_X_y\u001b[0m\u001b[0;34m(\u001b[0m\u001b[0mX\u001b[0m\u001b[0;34m,\u001b[0m \u001b[0my\u001b[0m\u001b[0;34m,\u001b[0m \u001b[0mdtype\u001b[0m\u001b[0;34m=\u001b[0m\u001b[0mnp\u001b[0m\u001b[0;34m.\u001b[0m\u001b[0mfloat64\u001b[0m\u001b[0;34m,\u001b[0m \u001b[0morder\u001b[0m\u001b[0;34m=\u001b[0m\u001b[0;34m'C'\u001b[0m\u001b[0;34m,\u001b[0m \u001b[0maccept_sparse\u001b[0m\u001b[0;34m=\u001b[0m\u001b[0;34m'csr'\u001b[0m\u001b[0;34m)\u001b[0m\u001b[0;34m\u001b[0m\u001b[0m\n\u001b[0;32m--> 152\u001b[0;31m         \u001b[0my\u001b[0m \u001b[0;34m=\u001b[0m \u001b[0mself\u001b[0m\u001b[0;34m.\u001b[0m\u001b[0m_validate_targets\u001b[0m\u001b[0;34m(\u001b[0m\u001b[0my\u001b[0m\u001b[0;34m)\u001b[0m\u001b[0;34m\u001b[0m\u001b[0m\n\u001b[0m\u001b[1;32m    153\u001b[0m \u001b[0;34m\u001b[0m\u001b[0m\n\u001b[1;32m    154\u001b[0m         sample_weight = np.asarray([]\n",
      "\u001b[0;32m/usr/local/lib/python2.7/dist-packages/sklearn/svm/base.pyc\u001b[0m in \u001b[0;36m_validate_targets\u001b[0;34m(self, y)\u001b[0m\n\u001b[1;32m    524\u001b[0m             raise ValueError(\n\u001b[1;32m    525\u001b[0m                 \u001b[0;34m\"The number of classes has to be greater than one; got %d\"\u001b[0m\u001b[0;34m\u001b[0m\u001b[0m\n\u001b[0;32m--> 526\u001b[0;31m                 % len(cls))\n\u001b[0m\u001b[1;32m    527\u001b[0m \u001b[0;34m\u001b[0m\u001b[0m\n\u001b[1;32m    528\u001b[0m         \u001b[0mself\u001b[0m\u001b[0;34m.\u001b[0m\u001b[0mclasses_\u001b[0m \u001b[0;34m=\u001b[0m \u001b[0mcls\u001b[0m\u001b[0;34m\u001b[0m\u001b[0m\n",
      "\u001b[0;31mValueError\u001b[0m: The number of classes has to be greater than one; got 1"
     ]
    }
   ],
   "source": [
    "sess = tf.InteractiveSession()\n",
    "\n",
    "x = tf.placeholder(tf.float32, shape=[None, 784])\n",
    "y_ = tf.placeholder(tf.float32, shape=[None, 10])\n",
    "\n",
    "x_image = tf.reshape(x, [-1,28,28,1])\n",
    "\n",
    "W_conv1 = weight_variable([5, 5, 1, 32])\n",
    "b_conv1 = bias_variable([32])\n",
    "h_conv1 = tf.nn.relu(conv2d(x_image, W_conv1) + b_conv1)\n",
    "h_pool1 = max_pool_2x2(h_conv1)\n",
    "\n",
    "W_conv2 = weight_variable([5, 5, 32, 64])\n",
    "b_conv2 = bias_variable([64])\n",
    "h_conv2 = tf.nn.relu(conv2d(h_pool1, W_conv2) + b_conv2)\n",
    "h_pool2 = max_pool_2x2(h_conv2)\n",
    "\n",
    "h_pool2_flat = tf.reshape(h_pool2, [-1, 7*7*64])\n",
    "\n",
    "W_fc1 = weight_variable([7 * 7 * 64, NUMBER_OF_FEATURES])\n",
    "b_fc1 = bias_variable([NUMBER_OF_FEATURES])\n",
    "h_fc1 = tf.nn.relu(tf.matmul(h_pool2_flat, W_fc1) + b_fc1)\n",
    "\n",
    "keep_prob = tf.placeholder(tf.float32)\n",
    "h_fc1_drop = tf.nn.dropout(h_fc1, keep_prob)\n",
    "\n",
    "W_fc2 = weight_variable([NUMBER_OF_FEATURES, 10])\n",
    "b_fc2 = bias_variable([10])\n",
    "\n",
    "y_conv=tf.nn.softmax(tf.matmul(h_fc1_drop, W_fc2) + b_fc2)\n",
    "\n",
    "cross_entropy = tf.reduce_mean(-tf.reduce_sum(y_ * tf.log(y_conv), reduction_indices=[1]))\n",
    "train_step = tf.train.AdamOptimizer(1e-4).minimize(cross_entropy)\n",
    "\n",
    "correct_prediction = tf.equal(tf.argmax(y_conv,1), tf.argmax(y_,1))\n",
    "model_accuracy = tf.reduce_mean(tf.cast(correct_prediction, tf.float32))\n",
    "\n",
    "\n",
    "for index in range(NUMBER_OF_EXPERIMENTS):\n",
    "    print(\"Experiment: \", index+1)\n",
    "    sess.run(tf.global_variables_initializer())\n",
    "    result = ConvNetSVM()\n",
    "    print(result)\n",
    "\n",
    "sess.close()"
   ]
  },
  {
   "cell_type": "code",
   "execution_count": null,
   "metadata": {
    "collapsed": true
   },
   "outputs": [],
   "source": []
  }
 ],
 "metadata": {
  "kernelspec": {
   "display_name": "Python 2",
   "language": "python",
   "name": "python2"
  },
  "language_info": {
   "codemirror_mode": {
    "name": "ipython",
    "version": 2
   },
   "file_extension": ".py",
   "mimetype": "text/x-python",
   "name": "python",
   "nbconvert_exporter": "python",
   "pygments_lexer": "ipython2",
   "version": "2.7.12"
  }
 },
 "nbformat": 4,
 "nbformat_minor": 2
}
